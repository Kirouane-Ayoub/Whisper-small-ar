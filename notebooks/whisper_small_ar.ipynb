{
  "nbformat": 4,
  "nbformat_minor": 0,
  "metadata": {
    "colab": {
      "provenance": []
    },
    "kernelspec": {
      "name": "python3",
      "display_name": "Python 3"
    },
    "language_info": {
      "name": "python"
    }
  },
  "cells": [
    {
      "cell_type": "code",
      "execution_count": null,
      "metadata": {
        "id": "A9_dlQAPFPoa"
      },
      "outputs": [],
      "source": [
        "!pip -q install gradio\n",
        "!pip -q transformers[torch]"
      ]
    },
    {
      "cell_type": "code",
      "source": [
        "from transformers import pipeline\n",
        "import gradio as gr\n",
        "\n",
        "pipe = pipeline(model=\"ayoubkirouane/whisper-small-ar\")\n",
        "\n",
        "def transcribe(audio):\n",
        "    text = pipe(audio)[\"text\"]\n",
        "    return text\n",
        "\n",
        "iface = gr.Interface(\n",
        "    fn=transcribe,\n",
        "    inputs=gr.Audio(source=\"microphone\", type=\"filepath\"),\n",
        "    outputs=\"text\",\n",
        "    title=\"Whisper Small Arabic\",\n",
        "    description=\"Realtime demo for Arabic speech recognition using a fine-tuned Whisper small model.\",\n",
        ")"
      ],
      "metadata": {
        "id": "9LxUvkhTFUa2"
      },
      "execution_count": null,
      "outputs": []
    },
    {
      "cell_type": "code",
      "source": [
        "iface.launch(share=True)"
      ],
      "metadata": {
        "id": "1ZJS9QI5Falc"
      },
      "execution_count": null,
      "outputs": []
    }
  ]
}